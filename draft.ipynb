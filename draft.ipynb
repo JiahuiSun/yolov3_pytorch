{
 "cells": [
  {
   "cell_type": "code",
   "execution_count": 1,
   "metadata": {},
   "outputs": [],
   "source": [
    "import cv2\n",
    "import numpy as np\n",
    "import glob\n",
    "import os\n",
    "import pickle"
   ]
  },
  {
   "cell_type": "code",
   "execution_count": 3,
   "metadata": {},
   "outputs": [],
   "source": [
    "with open(\"output/20230928_101858/result/val_detections.pkl\", 'rb') as f:\n",
    "    val_detections = pickle.load(f)\n",
    "with open(\"output/20230928_101858/result/all_detections_after.pkl\", 'rb') as f:\n",
    "    all_detections = pickle.load(f)"
   ]
  },
  {
   "cell_type": "code",
   "execution_count": 7,
   "metadata": {},
   "outputs": [],
   "source": [
    "with open(\"output/20230928_101858/result/val_annotations.pkl\", 'rb') as f:\n",
    "    val_annotations = pickle.load(f)\n",
    "with open(\"output/20230928_101858/result/all_annotations_after.pkl\", 'rb') as f:\n",
    "    all_annotations = pickle.load(f)"
   ]
  },
  {
   "cell_type": "code",
   "execution_count": 8,
   "metadata": {},
   "outputs": [
    {
     "data": {
      "text/plain": [
       "(2506, 2506)"
      ]
     },
     "execution_count": 8,
     "metadata": {},
     "output_type": "execute_result"
    }
   ],
   "source": [
    "len(val_detections), len(val_annotations)"
   ]
  },
  {
   "cell_type": "code",
   "execution_count": 9,
   "metadata": {},
   "outputs": [
    {
     "data": {
      "text/plain": [
       "(484, 484)"
      ]
     },
     "execution_count": 9,
     "metadata": {},
     "output_type": "execute_result"
    }
   ],
   "source": [
    "len(all_detections), len(all_detections)"
   ]
  },
  {
   "cell_type": "code",
   "execution_count": 12,
   "metadata": {},
   "outputs": [
    {
     "data": {
      "text/plain": [
       "410"
      ]
     },
     "execution_count": 12,
     "metadata": {},
     "output_type": "execute_result"
    }
   ],
   "source": []
  },
  {
   "cell_type": "code",
   "execution_count": 7,
   "metadata": {},
   "outputs": [],
   "source": [
    "data_dir = \"/home/agent/Code/yolov3_pytorch/annotation/data_parallel\"\n",
    "img_dir = os.path.join(data_dir, \"images/train\")\n",
    "lab_dir = os.path.join(data_dir, \"labels/train\")\n",
    "img_paths = glob.glob(f'{img_dir}/*.*')\n",
    "lab_paths = glob.glob(f'{lab_dir}/*.*')"
   ]
  },
  {
   "cell_type": "code",
   "execution_count": 17,
   "metadata": {},
   "outputs": [],
   "source": [
    "img = cv2.imread(img_paths[0])"
   ]
  },
  {
   "cell_type": "code",
   "execution_count": 18,
   "metadata": {},
   "outputs": [
    {
     "data": {
      "text/plain": [
       "(160, 320, 3)"
      ]
     },
     "execution_count": 18,
     "metadata": {},
     "output_type": "execute_result"
    }
   ],
   "source": [
    "img.shape"
   ]
  },
  {
   "cell_type": "code",
   "execution_count": 12,
   "metadata": {},
   "outputs": [
    {
     "data": {
      "text/plain": [
       "'/home/agent/Code/yolov3_pytorch/annotation/data_parallel/labels/train/exp10_0.txt'"
      ]
     },
     "execution_count": 12,
     "metadata": {},
     "output_type": "execute_result"
    }
   ],
   "source": [
    "img_paths[0].replace('images', 'labels').replace('png', 'txt').replace('jpg', 'txt')"
   ]
  },
  {
   "cell_type": "code",
   "execution_count": 13,
   "metadata": {},
   "outputs": [],
   "source": [
    "lab_path = img_paths[0].replace('images', 'labels').replace('png', 'txt').replace('jpg', 'txt')\n",
    "labels = np.loadtxt(lab_path).reshape(-1, 5)\n"
   ]
  },
  {
   "cell_type": "code",
   "execution_count": 14,
   "metadata": {},
   "outputs": [
    {
     "data": {
      "text/plain": [
       "array([[0.        , 0.60731236, 0.31402428, 0.05173814, 0.03653711]])"
      ]
     },
     "execution_count": 14,
     "metadata": {},
     "output_type": "execute_result"
    }
   ],
   "source": [
    "labels"
   ]
  },
  {
   "cell_type": "code",
   "execution_count": 15,
   "metadata": {},
   "outputs": [],
   "source": [
    "filled_labels = np.zeros((10, 5)) # 创建50×5的占位空间\n",
    "filled_labels[range(len(labels))[:10]] = labels[:10]"
   ]
  },
  {
   "cell_type": "code",
   "execution_count": 16,
   "metadata": {},
   "outputs": [
    {
     "data": {
      "text/plain": [
       "array([[0.        , 0.60731236, 0.31402428, 0.05173814, 0.03653711],\n",
       "       [0.        , 0.        , 0.        , 0.        , 0.        ],\n",
       "       [0.        , 0.        , 0.        , 0.        , 0.        ],\n",
       "       [0.        , 0.        , 0.        , 0.        , 0.        ],\n",
       "       [0.        , 0.        , 0.        , 0.        , 0.        ],\n",
       "       [0.        , 0.        , 0.        , 0.        , 0.        ],\n",
       "       [0.        , 0.        , 0.        , 0.        , 0.        ],\n",
       "       [0.        , 0.        , 0.        , 0.        , 0.        ],\n",
       "       [0.        , 0.        , 0.        , 0.        , 0.        ],\n",
       "       [0.        , 0.        , 0.        , 0.        , 0.        ]])"
      ]
     },
     "execution_count": 16,
     "metadata": {},
     "output_type": "execute_result"
    }
   ],
   "source": [
    "filled_labels"
   ]
  },
  {
   "cell_type": "code",
   "execution_count": 19,
   "metadata": {},
   "outputs": [],
   "source": [
    "import torch"
   ]
  },
  {
   "cell_type": "code",
   "execution_count": 20,
   "metadata": {},
   "outputs": [],
   "source": [
    "H, W = 160, 320\n",
    "a = torch.arange(H).repeat(W, 1).t().view(1, 1, H, W)"
   ]
  },
  {
   "cell_type": "code",
   "execution_count": 21,
   "metadata": {},
   "outputs": [
    {
     "data": {
      "text/plain": [
       "torch.Size([1, 1, 160, 320])"
      ]
     },
     "execution_count": 21,
     "metadata": {},
     "output_type": "execute_result"
    }
   ],
   "source": [
    "a.size()"
   ]
  },
  {
   "cell_type": "code",
   "execution_count": 23,
   "metadata": {},
   "outputs": [
    {
     "data": {
      "text/plain": [
       "(torch.Size([160]), torch.Size([320, 160]))"
      ]
     },
     "execution_count": 23,
     "metadata": {},
     "output_type": "execute_result"
    }
   ],
   "source": [
    "torch.arange(H).size(), torch.arange(H).repeat(W, 1).size()"
   ]
  },
  {
   "cell_type": "code",
   "execution_count": 24,
   "metadata": {},
   "outputs": [],
   "source": [
    "nG = (3, 4)\n",
    "b = torch.ones((1, 2, *nG, 3))"
   ]
  },
  {
   "cell_type": "code",
   "execution_count": 25,
   "metadata": {},
   "outputs": [
    {
     "data": {
      "text/plain": [
       "torch.Size([1, 2, 3, 4, 3])"
      ]
     },
     "execution_count": 25,
     "metadata": {},
     "output_type": "execute_result"
    }
   ],
   "source": [
    "b.size()"
   ]
  },
  {
   "cell_type": "code",
   "execution_count": 26,
   "metadata": {},
   "outputs": [],
   "source": [
    "anchors = torch.Tensor([[[7,14],[8,16],[10,27]],\n",
    "                           [[12,21],[16,17],[17,34]],\n",
    "                           [[17,22],[20,18],[22,20]]])"
   ]
  },
  {
   "cell_type": "code",
   "execution_count": 27,
   "metadata": {},
   "outputs": [
    {
     "data": {
      "text/plain": [
       "torch.Size([3, 3, 2])"
      ]
     },
     "execution_count": 27,
     "metadata": {},
     "output_type": "execute_result"
    }
   ],
   "source": [
    "anchors.size()"
   ]
  },
  {
   "cell_type": "code",
   "execution_count": 28,
   "metadata": {},
   "outputs": [
    {
     "data": {
      "text/plain": [
       "tensor([[ 7., 14.],\n",
       "        [ 8., 16.],\n",
       "        [10., 27.]])"
      ]
     },
     "execution_count": 28,
     "metadata": {},
     "output_type": "execute_result"
    }
   ],
   "source": [
    "anchors[0]"
   ]
  },
  {
   "cell_type": "code",
   "execution_count": 1,
   "metadata": {},
   "outputs": [],
   "source": [
    "from utils import bbox_iou_numpy, bbox_iou\n",
    "import numpy as np\n",
    "import torch as th"
   ]
  },
  {
   "cell_type": "code",
   "execution_count": 2,
   "metadata": {},
   "outputs": [],
   "source": [
    "bbox1 = th.tensor([[0, 0, 2, 2]])\n",
    "bbox2 = th.tensor([[1, 1, 3, 3], [1, 1, 4, 4]])"
   ]
  },
  {
   "cell_type": "code",
   "execution_count": 3,
   "metadata": {},
   "outputs": [],
   "source": [
    "output = bbox_iou(bbox1, bbox2)"
   ]
  },
  {
   "cell_type": "code",
   "execution_count": 9,
   "metadata": {},
   "outputs": [
    {
     "data": {
      "text/plain": [
       "array([0.14285714, 0.        , 0.        ])"
      ]
     },
     "execution_count": 9,
     "metadata": {},
     "output_type": "execute_result"
    }
   ],
   "source": [
    "def calculate_iou(rect1, rectangles):\n",
    "    # 计算交集区域的左上角坐标\n",
    "    x_intersection = np.maximum(rect1[0], rectangles[:, 0])\n",
    "    y_intersection = np.maximum(rect1[1], rectangles[:, 1])\n",
    "    \n",
    "    # 计算交集区域的右下角坐标\n",
    "    x_intersection_end = np.minimum(rect1[2], rectangles[:, 2])\n",
    "    y_intersection_end = np.minimum(rect1[3], rectangles[:, 3])\n",
    "    \n",
    "    # 计算交集区域的宽度和高度（可能为负数，表示没有重叠）\n",
    "    intersection_width = np.maximum(0, x_intersection_end - x_intersection)\n",
    "    intersection_height = np.maximum(0, y_intersection_end - y_intersection)\n",
    "    \n",
    "    # 计算交集区域的面积\n",
    "    intersection_area = intersection_width * intersection_height\n",
    "    \n",
    "    # 计算矩形1的面积\n",
    "    area_rect1 = (rect1[2] - rect1[0]) * (rect1[3] - rect1[1])\n",
    "    \n",
    "    # 计算其他矩形的面积\n",
    "    area_rectangles = (rectangles[:, 2] - rectangles[:, 0]) * (rectangles[:, 3] - rectangles[:, 1])\n",
    "    \n",
    "    # 计算并集区域的面积\n",
    "    union_area = area_rect1 + area_rectangles - intersection_area\n",
    "    \n",
    "    # 计算IoU\n",
    "    iou = intersection_area / union_area\n",
    "    \n",
    "    return iou\n",
    "\n",
    "# 示例矩形坐标\n",
    "rect1 = np.array([0, 0, 4, 4])\n",
    "rectangles = np.array([(2, 2, 6, 6), (5, 5, 8, 8), (10, 10, 12, 12)])\n",
    "\n",
    "# 计算矩形1与多个矩形的IoU\n",
    "iou_values = calculate_iou(rect1, rectangles)\n",
    "iou_values\n"
   ]
  },
  {
   "cell_type": "code",
   "execution_count": 1,
   "metadata": {},
   "outputs": [],
   "source": [
    "import pickle"
   ]
  },
  {
   "cell_type": "code",
   "execution_count": 3,
   "metadata": {},
   "outputs": [],
   "source": [
    "with open('pred_res.pkl', 'rb') as f:\n",
    "    pred_res = pickle.load(f)\n",
    "with open('target_res.pkl', 'rb') as f:\n",
    "    target_res = pickle.load(f)\n"
   ]
  },
  {
   "cell_type": "code",
   "execution_count": 9,
   "metadata": {},
   "outputs": [
    {
     "data": {
      "text/plain": [
       "tensor([[0.0000, 0.4851, 0.2456, 0.0259, 0.0494],\n",
       "        [0.0000, 0.0000, 0.0000, 0.0000, 0.0000],\n",
       "        [0.0000, 0.0000, 0.0000, 0.0000, 0.0000],\n",
       "        [0.0000, 0.0000, 0.0000, 0.0000, 0.0000],\n",
       "        [0.0000, 0.0000, 0.0000, 0.0000, 0.0000],\n",
       "        [0.0000, 0.0000, 0.0000, 0.0000, 0.0000],\n",
       "        [0.0000, 0.0000, 0.0000, 0.0000, 0.0000],\n",
       "        [0.0000, 0.0000, 0.0000, 0.0000, 0.0000],\n",
       "        [0.0000, 0.0000, 0.0000, 0.0000, 0.0000],\n",
       "        [0.0000, 0.0000, 0.0000, 0.0000, 0.0000]], device='cuda:0',\n",
       "       dtype=torch.float64)"
      ]
     },
     "execution_count": 9,
     "metadata": {},
     "output_type": "execute_result"
    }
   ],
   "source": [
    "target_res[-1][0]"
   ]
  },
  {
   "cell_type": "code",
   "execution_count": 18,
   "metadata": {},
   "outputs": [
    {
     "data": {
      "text/plain": [
       "tensor([[149.1717,  38.5623, 158.9098,  51.4984,   0.9999,   0.7769],\n",
       "        [151.4039,  34.3758, 162.4739,  45.4148,   0.9998,   0.5860],\n",
       "        [151.3564,  32.7130, 163.5119,  43.7672,   0.9994,   0.7541],\n",
       "        [155.2812,  32.0590, 166.1803,  42.3762,   0.9096,   0.6170],\n",
       "        [149.8114,  35.4669, 160.4946,  46.9297,   0.9793,   0.6962],\n",
       "        [147.6945, 115.2550, 164.9058, 129.6601,   0.8271,   0.6869]],\n",
       "       device='cuda:0')"
      ]
     },
     "execution_count": 18,
     "metadata": {},
     "output_type": "execute_result"
    }
   ],
   "source": [
    "pred_res[-1][0][pred_res[-1][0][:, 4] > 0.5]"
   ]
  },
  {
   "cell_type": "code",
   "execution_count": 1,
   "metadata": {},
   "outputs": [
    {
     "name": "stdout",
     "output_type": "stream",
     "text": [
      "('annotation/data_parallel/images/test/exp15_187.png', 'annotation/data_parallel/images/test/exp5_282.png', 'annotation/data_parallel/images/test/exp5_134.png', 'annotation/data_parallel/images/test/exp5_128.png')\n",
      "torch.Size([4, 3, 160, 320])\n",
      "torch.Size([4, 10, 5])\n"
     ]
    }
   ],
   "source": [
    "from dataset import ListDataset\n",
    "import torch\n",
    "# 循环读取图片，用imshow展示\n",
    "\n",
    "# ListDataset是用于训练时使用的数据集类, 它会返回以下三个变量:\n",
    "# 图片路径(str), 图片(3,416,416), 以及图片的box标签信息(50,5)\n",
    "dataloader = torch.utils.data.DataLoader(\n",
    "    ListDataset(\"annotation/data_parallel\", mode='test'), batch_size=4\n",
    ")\n",
    "# anchors = torch.Tensor([[[7,14],[8,16],[10,27]],\n",
    "#                         [[12,21],[16,17],[17,34]],\n",
    "#                         [[17,22],[20,18],[22,20]]])\n",
    "anchors = torch.Tensor([[[10, 13], [16, 30], [33, 23]],\n",
    "                        [[30, 61], [62, 45], [59, 119]],\n",
    "                        [[116, 90], [156, 198], [373, 326]]])\n",
    "\n",
    "all_detections = []\n",
    "all_annotations = []\n",
    "img_path, target_res = [], []\n",
    "for batch_i, (img_path, imgs, targets) in enumerate(dataloader):\n",
    "    print(img_path)\n",
    "    print(imgs.shape)\n",
    "    print(targets.shape)\n",
    "    break\n"
   ]
  },
  {
   "cell_type": "code",
   "execution_count": null,
   "metadata": {},
   "outputs": [],
   "source": []
  }
 ],
 "metadata": {
  "kernelspec": {
   "display_name": "yolov5",
   "language": "python",
   "name": "python3"
  },
  "language_info": {
   "codemirror_mode": {
    "name": "ipython",
    "version": 3
   },
   "file_extension": ".py",
   "mimetype": "text/x-python",
   "name": "python",
   "nbconvert_exporter": "python",
   "pygments_lexer": "ipython3",
   "version": "3.8.16"
  },
  "orig_nbformat": 4
 },
 "nbformat": 4,
 "nbformat_minor": 2
}
